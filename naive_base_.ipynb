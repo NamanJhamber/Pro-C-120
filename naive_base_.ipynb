{
  "nbformat": 4,
  "nbformat_minor": 0,
  "metadata": {
    "colab": {
      "name": "naive base .ipynb",
      "provenance": [],
      "authorship_tag": "ABX9TyNPYKLAPfVJ87eWh/rPeC8Y",
      "include_colab_link": true
    },
    "kernelspec": {
      "name": "python3",
      "display_name": "Python 3"
    },
    "language_info": {
      "name": "python"
    }
  },
  "cells": [
    {
      "cell_type": "markdown",
      "metadata": {
        "id": "view-in-github",
        "colab_type": "text"
      },
      "source": [
        "<a href=\"https://colab.research.google.com/github/NamanJhamber/Pro-C-120/blob/main/naive_base_.ipynb\" target=\"_parent\"><img src=\"https://colab.research.google.com/assets/colab-badge.svg\" alt=\"Open In Colab\"/></a>"
      ]
    },
    {
      "cell_type": "code",
      "metadata": {
        "colab": {
          "base_uri": "https://localhost:8080/"
        },
        "id": "yddByY7Q6ElR",
        "outputId": "435c2d13-3408-4748-aee5-83300be5ab7d"
      },
      "source": [
        "import csv \n",
        "import pandas as pd\n",
        "import plotly.express as px\n",
        "from sklearn.naive_bayes import GaussianNB\n",
        "from sklearn.metrics import accuracy_score\n",
        "from sklearn.preprocessing import StandardScaler\n",
        "from sklearn.model_selection import train_test_split\n",
        "from sklearn.linear_model import LogisticRegression\n",
        "\n",
        "df=pd.read_csv('income.csv')\n",
        "print(df.head())\n",
        "\n",
        "X=df[['age','hours-per-week','education-num','capital-gain','capital-loss']]\n",
        "y=df['income']\n",
        "\n",
        "X_train_1,X_test_1,y_train_1,y_test_1=train_test_split(X,y,test_size=0.25,random_state=42)\n",
        "X_train_2,X_test_2,y_train_2,y_test_2=train_test_split(X,y,test_size=0.25,random_state=42)\n",
        "\n",
        "sc=StandardScaler()\n",
        "X_train_1=sc.fit_transform(X_train_1)\n",
        "X_train_1=sc.fit_transform(X_train_1)\n",
        "\n",
        "X_train_2=sc.fit_transform(X_train_2)\n",
        "X_train_2=sc.fit_transform(X_train_2)\n",
        "\n",
        "model_1=GaussianNB()\n",
        "model_1.fit(X_train_1,y_train_1)\n",
        "\n",
        "model_2=LogisticRegression(random_state=0)\n",
        "model_2.fit(X_train_2,y_train_2)\n",
        "\n",
        "y_pred_1=model_1.predict(X_test_1)\n",
        "accuracy_1=accuracy_score(y_test_1,y_pred_1)\n",
        "\n",
        "y_pred_2=model_2.predict(X_test_2)\n",
        "accuracy_2=accuracy_score(y_test_2,y_pred_2)\n",
        "\n",
        "print(accuracy_1)\n",
        "print(accuracy_2)"
      ],
      "execution_count": null,
      "outputs": [
        {
          "output_type": "stream",
          "name": "stdout",
          "text": [
            "   age          workclass  ...  native-country  income\n",
            "0   39          State-gov  ...   United-States   <=50K\n",
            "1   50   Self-emp-not-inc  ...   United-States   <=50K\n",
            "2   38            Private  ...   United-States   <=50K\n",
            "3   53            Private  ...   United-States   <=50K\n",
            "4   28            Private  ...            Cuba   <=50K\n",
            "\n",
            "[5 rows x 14 columns]\n",
            "0.776136564655935\n",
            "0.2520785423668848\n"
          ]
        }
      ]
    }
  ]
}